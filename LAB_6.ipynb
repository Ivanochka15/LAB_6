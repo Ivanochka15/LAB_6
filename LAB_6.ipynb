{
 "cells": [
  {
   "cell_type": "code",
   "execution_count": 6,
   "metadata": {
    "scrolled": true
   },
   "outputs": [
    {
     "name": "stderr",
     "output_type": "stream",
     "text": [
      "C:\\Users\\Admin\\anaconda3\\lib\\site-packages\\pandas\\core\\computation\\expressions.py:20: UserWarning: Pandas requires version '2.7.3' or newer of 'numexpr' (version '2.7.1' currently installed).\n",
      "  from pandas.core.computation.check import NUMEXPR_INSTALLED\n",
      "[nltk_data] Downloading package stopwords to\n",
      "[nltk_data]     C:\\Users\\Admin\\AppData\\Roaming\\nltk_data...\n",
      "[nltk_data]   Package stopwords is already up-to-date!\n"
     ]
    }
   ],
   "source": [
    "import pandas as pd\n",
    "import re\n",
    "import tensorflow as tf\n",
    "import sklearn\n",
    "import keras\n",
    "from keras.models import Sequential\n",
    "from keras.layers import Dense, LSTM, Dropout, Bidirectional, Embedding, SpatialDropout1D\n",
    "import matplotlib.pyplot as plt\n",
    "import nltk\n",
    "nltk.download(\"stopwords\")\n",
    "from nltk.corpus import stopwords"
   ]
  },
  {
   "cell_type": "markdown",
   "metadata": {},
   "source": [
    "# LSTM RNN\n"
   ]
  },
  {
   "cell_type": "markdown",
   "metadata": {},
   "source": [
    "<img src=\"./lstm.png\" alt=\"Alternative text\" />"
   ]
  },
  {
   "cell_type": "markdown",
   "metadata": {},
   "source": [
    "LSTM долають проблеми зникаючих градієнтів і вибухових градієнтів, характерних для RNN. Вони містять спеціальні одиниці, відомі як ***клітини***. Кожна клітина містить одну або більше одиниць пам'яті та три оборотні елементи. Вони називаються ***воротами*** клітин.\n",
    "\n",
    "Працює це таким чином:\n",
    "\n",
    "*  **Вхід** - Це ворота читання. Вони отримують відповідні вхідні дані, щоб дозволити коригувати вагові коефіцієнти в певному вузлі.\n",
    "*  **Вихід** - Це ворота запису. Це дозволяє інформації в комірці регулювати ваги певного вузла на основі релевантності інформації всередині.\n",
    "*  **Скидання (Reset)** - Це ворота забуття. Вони позбавляються інформації в клітинці, яка більше не потрібна.\n",
    "\n",
    "Блоки пам'яті можна назвати ***воротами запам'ятовування (remember gate)***. Це дозволяє мережі LSTM зберігати інформацію. Блоки пам’яті – це те, що забезпечує здатність нейронної мережі LSTM довгостроково відновлювати дані."
   ]
  },
  {
   "cell_type": "markdown",
   "metadata": {},
   "source": [
    "### Завантаження даних"
   ]
  },
  {
   "cell_type": "markdown",
   "metadata": {},
   "source": [
    "Завантажимо набір даних у змінну та отримаємо необхідні стовпці. У цьому випадку 'Consumer complaint narrative' та 'Product'. Нарешті, ми видаляємо нульові значення."
   ]
  },
  {
   "cell_type": "code",
   "execution_count": 7,
   "metadata": {},
   "outputs": [
    {
     "data": {
      "text/html": [
       "<div>\n",
       "<style scoped>\n",
       "    .dataframe tbody tr th:only-of-type {\n",
       "        vertical-align: middle;\n",
       "    }\n",
       "\n",
       "    .dataframe tbody tr th {\n",
       "        vertical-align: top;\n",
       "    }\n",
       "\n",
       "    .dataframe thead th {\n",
       "        text-align: right;\n",
       "    }\n",
       "</style>\n",
       "<table border=\"1\" class=\"dataframe\">\n",
       "  <thead>\n",
       "    <tr style=\"text-align: right;\">\n",
       "      <th></th>\n",
       "      <th>Date received</th>\n",
       "      <th>Product</th>\n",
       "      <th>Sub-product</th>\n",
       "      <th>Issue</th>\n",
       "      <th>Sub-issue</th>\n",
       "      <th>Consumer complaint narrative</th>\n",
       "      <th>Company public response</th>\n",
       "      <th>Company</th>\n",
       "      <th>State</th>\n",
       "      <th>ZIP code</th>\n",
       "      <th>Tags</th>\n",
       "      <th>Consumer consent provided?</th>\n",
       "      <th>Submitted via</th>\n",
       "      <th>Date sent to company</th>\n",
       "      <th>Company response to consumer</th>\n",
       "      <th>Timely response?</th>\n",
       "      <th>Consumer disputed?</th>\n",
       "      <th>Complaint ID</th>\n",
       "    </tr>\n",
       "  </thead>\n",
       "  <tbody>\n",
       "    <tr>\n",
       "      <th>0</th>\n",
       "      <td>2023-01-23</td>\n",
       "      <td>Credit reporting, credit repair services, or o...</td>\n",
       "      <td>Credit reporting</td>\n",
       "      <td>Problem with a credit reporting company's inve...</td>\n",
       "      <td>Their investigation did not fix an error on yo...</td>\n",
       "      <td>NaN</td>\n",
       "      <td>Company has responded to the consumer and the ...</td>\n",
       "      <td>TRANSUNION INTERMEDIATE HOLDINGS, INC.</td>\n",
       "      <td>FL</td>\n",
       "      <td>33993</td>\n",
       "      <td>NaN</td>\n",
       "      <td>Consent not provided</td>\n",
       "      <td>Web</td>\n",
       "      <td>2023-02-13</td>\n",
       "      <td>Closed with non-monetary relief</td>\n",
       "      <td>Yes</td>\n",
       "      <td>NaN</td>\n",
       "      <td>6473143</td>\n",
       "    </tr>\n",
       "    <tr>\n",
       "      <th>1</th>\n",
       "      <td>2022-06-08</td>\n",
       "      <td>Debt collection</td>\n",
       "      <td>Mortgage debt</td>\n",
       "      <td>Attempts to collect debt not owed</td>\n",
       "      <td>Debt was paid</td>\n",
       "      <td>NaN</td>\n",
       "      <td>Company has responded to the consumer and the ...</td>\n",
       "      <td>BANK OF AMERICA, NATIONAL ASSOCIATION</td>\n",
       "      <td>NV</td>\n",
       "      <td>89131</td>\n",
       "      <td>NaN</td>\n",
       "      <td>Consent not provided</td>\n",
       "      <td>Web</td>\n",
       "      <td>2022-06-08</td>\n",
       "      <td>Closed with explanation</td>\n",
       "      <td>Yes</td>\n",
       "      <td>NaN</td>\n",
       "      <td>5647636</td>\n",
       "    </tr>\n",
       "    <tr>\n",
       "      <th>2</th>\n",
       "      <td>2023-05-18</td>\n",
       "      <td>Credit reporting, credit repair services, or o...</td>\n",
       "      <td>Credit reporting</td>\n",
       "      <td>Problem with a credit reporting company's inve...</td>\n",
       "      <td>Investigation took more than 30 days</td>\n",
       "      <td>NaN</td>\n",
       "      <td>NaN</td>\n",
       "      <td>EQUIFAX, INC.</td>\n",
       "      <td>WI</td>\n",
       "      <td>53209</td>\n",
       "      <td>NaN</td>\n",
       "      <td>NaN</td>\n",
       "      <td>Web</td>\n",
       "      <td>2023-05-18</td>\n",
       "      <td>In progress</td>\n",
       "      <td>Yes</td>\n",
       "      <td>NaN</td>\n",
       "      <td>6994349</td>\n",
       "    </tr>\n",
       "    <tr>\n",
       "      <th>3</th>\n",
       "      <td>2023-05-13</td>\n",
       "      <td>Credit reporting, credit repair services, or o...</td>\n",
       "      <td>Credit reporting</td>\n",
       "      <td>Problem with a credit reporting company's inve...</td>\n",
       "      <td>Investigation took more than 30 days</td>\n",
       "      <td>NaN</td>\n",
       "      <td>NaN</td>\n",
       "      <td>Experian Information Solutions Inc.</td>\n",
       "      <td>NY</td>\n",
       "      <td>10469</td>\n",
       "      <td>NaN</td>\n",
       "      <td>NaN</td>\n",
       "      <td>Web</td>\n",
       "      <td>2023-05-13</td>\n",
       "      <td>In progress</td>\n",
       "      <td>Yes</td>\n",
       "      <td>NaN</td>\n",
       "      <td>6972527</td>\n",
       "    </tr>\n",
       "    <tr>\n",
       "      <th>4</th>\n",
       "      <td>2023-05-12</td>\n",
       "      <td>Credit reporting, credit repair services, or o...</td>\n",
       "      <td>Credit reporting</td>\n",
       "      <td>Problem with a credit reporting company's inve...</td>\n",
       "      <td>Their investigation did not fix an error on yo...</td>\n",
       "      <td>NaN</td>\n",
       "      <td>NaN</td>\n",
       "      <td>Experian Information Solutions Inc.</td>\n",
       "      <td>CA</td>\n",
       "      <td>922XX</td>\n",
       "      <td>NaN</td>\n",
       "      <td>NaN</td>\n",
       "      <td>Web</td>\n",
       "      <td>2023-05-12</td>\n",
       "      <td>In progress</td>\n",
       "      <td>Yes</td>\n",
       "      <td>NaN</td>\n",
       "      <td>6970706</td>\n",
       "    </tr>\n",
       "  </tbody>\n",
       "</table>\n",
       "</div>"
      ],
      "text/plain": [
       "  Date received                                            Product   \n",
       "0    2023-01-23  Credit reporting, credit repair services, or o...  \\\n",
       "1    2022-06-08                                    Debt collection   \n",
       "2    2023-05-18  Credit reporting, credit repair services, or o...   \n",
       "3    2023-05-13  Credit reporting, credit repair services, or o...   \n",
       "4    2023-05-12  Credit reporting, credit repair services, or o...   \n",
       "\n",
       "        Sub-product                                              Issue   \n",
       "0  Credit reporting  Problem with a credit reporting company's inve...  \\\n",
       "1     Mortgage debt                  Attempts to collect debt not owed   \n",
       "2  Credit reporting  Problem with a credit reporting company's inve...   \n",
       "3  Credit reporting  Problem with a credit reporting company's inve...   \n",
       "4  Credit reporting  Problem with a credit reporting company's inve...   \n",
       "\n",
       "                                           Sub-issue   \n",
       "0  Their investigation did not fix an error on yo...  \\\n",
       "1                                      Debt was paid   \n",
       "2               Investigation took more than 30 days   \n",
       "3               Investigation took more than 30 days   \n",
       "4  Their investigation did not fix an error on yo...   \n",
       "\n",
       "  Consumer complaint narrative   \n",
       "0                          NaN  \\\n",
       "1                          NaN   \n",
       "2                          NaN   \n",
       "3                          NaN   \n",
       "4                          NaN   \n",
       "\n",
       "                             Company public response   \n",
       "0  Company has responded to the consumer and the ...  \\\n",
       "1  Company has responded to the consumer and the ...   \n",
       "2                                                NaN   \n",
       "3                                                NaN   \n",
       "4                                                NaN   \n",
       "\n",
       "                                  Company State ZIP code Tags   \n",
       "0  TRANSUNION INTERMEDIATE HOLDINGS, INC.    FL    33993  NaN  \\\n",
       "1   BANK OF AMERICA, NATIONAL ASSOCIATION    NV    89131  NaN   \n",
       "2                           EQUIFAX, INC.    WI    53209  NaN   \n",
       "3     Experian Information Solutions Inc.    NY    10469  NaN   \n",
       "4     Experian Information Solutions Inc.    CA    922XX  NaN   \n",
       "\n",
       "  Consumer consent provided? Submitted via Date sent to company   \n",
       "0       Consent not provided           Web           2023-02-13  \\\n",
       "1       Consent not provided           Web           2022-06-08   \n",
       "2                        NaN           Web           2023-05-18   \n",
       "3                        NaN           Web           2023-05-13   \n",
       "4                        NaN           Web           2023-05-12   \n",
       "\n",
       "      Company response to consumer Timely response?  Consumer disputed?   \n",
       "0  Closed with non-monetary relief              Yes                 NaN  \\\n",
       "1          Closed with explanation              Yes                 NaN   \n",
       "2                      In progress              Yes                 NaN   \n",
       "3                      In progress              Yes                 NaN   \n",
       "4                      In progress              Yes                 NaN   \n",
       "\n",
       "   Complaint ID  \n",
       "0       6473143  \n",
       "1       5647636  \n",
       "2       6994349  \n",
       "3       6972527  \n",
       "4       6970706  "
      ]
     },
     "execution_count": 7,
     "metadata": {},
     "output_type": "execute_result"
    }
   ],
   "source": [
    "complaints = pd.read_csv(\"complaints.csv\", nrows=1000)\n",
    "complaints.head()"
   ]
  },
  {
   "cell_type": "code",
   "execution_count": 8,
   "metadata": {},
   "outputs": [
    {
     "data": {
      "text/html": [
       "<div>\n",
       "<style scoped>\n",
       "    .dataframe tbody tr th:only-of-type {\n",
       "        vertical-align: middle;\n",
       "    }\n",
       "\n",
       "    .dataframe tbody tr th {\n",
       "        vertical-align: top;\n",
       "    }\n",
       "\n",
       "    .dataframe thead th {\n",
       "        text-align: right;\n",
       "    }\n",
       "</style>\n",
       "<table border=\"1\" class=\"dataframe\">\n",
       "  <thead>\n",
       "    <tr style=\"text-align: right;\">\n",
       "      <th></th>\n",
       "      <th>Consumer complaint narrative</th>\n",
       "      <th>Product</th>\n",
       "    </tr>\n",
       "  </thead>\n",
       "  <tbody>\n",
       "    <tr>\n",
       "      <th>0</th>\n",
       "      <td>My name is XXXX XXXX XXXX this complaint is no...</td>\n",
       "      <td>Credit reporting, credit repair services, or o...</td>\n",
       "    </tr>\n",
       "    <tr>\n",
       "      <th>1</th>\n",
       "      <td>When I reviewed my credit report, I discovered...</td>\n",
       "      <td>Credit reporting, credit repair services, or o...</td>\n",
       "    </tr>\n",
       "    <tr>\n",
       "      <th>2</th>\n",
       "      <td>I am writing to file a complaint with the Cons...</td>\n",
       "      <td>Credit reporting, credit repair services, or o...</td>\n",
       "    </tr>\n",
       "    <tr>\n",
       "      <th>3</th>\n",
       "      <td>I'm really not sure what happened. I have mail...</td>\n",
       "      <td>Credit reporting, credit repair services, or o...</td>\n",
       "    </tr>\n",
       "    <tr>\n",
       "      <th>4</th>\n",
       "      <td>I recently received a copy of my credit report...</td>\n",
       "      <td>Credit reporting, credit repair services, or o...</td>\n",
       "    </tr>\n",
       "    <tr>\n",
       "      <th>5</th>\n",
       "      <td>Hello, I would like to know what inconstancy '...</td>\n",
       "      <td>Credit reporting, credit repair services, or o...</td>\n",
       "    </tr>\n",
       "    <tr>\n",
       "      <th>6</th>\n",
       "      <td>I'm really not sure what happened. I have mail...</td>\n",
       "      <td>Credit reporting, credit repair services, or o...</td>\n",
       "    </tr>\n",
       "    <tr>\n",
       "      <th>7</th>\n",
       "      <td>While I was with wells Fargo they would overch...</td>\n",
       "      <td>Checking or savings account</td>\n",
       "    </tr>\n",
       "    <tr>\n",
       "      <th>8</th>\n",
       "      <td>Between entering into a real estate transactio...</td>\n",
       "      <td>Money transfer, virtual currency, or money ser...</td>\n",
       "    </tr>\n",
       "    <tr>\n",
       "      <th>9</th>\n",
       "      <td>This is a medical debt on my credit report and...</td>\n",
       "      <td>Debt collection</td>\n",
       "    </tr>\n",
       "    <tr>\n",
       "      <th>10</th>\n",
       "      <td>My checking account dont add up a lot!</td>\n",
       "      <td>Checking or savings account</td>\n",
       "    </tr>\n",
       "    <tr>\n",
       "      <th>11</th>\n",
       "      <td>Visited a XXXX XXXX mattress store and was app...</td>\n",
       "      <td>Credit card or prepaid card</td>\n",
       "    </tr>\n",
       "    <tr>\n",
       "      <th>12</th>\n",
       "      <td>XX/XX/2023 I contacted Citibank to open a new ...</td>\n",
       "      <td>Checking or savings account</td>\n",
       "    </tr>\n",
       "    <tr>\n",
       "      <th>13</th>\n",
       "      <td>I, XXXX XXXX XXXX XXXX On XX/XX/XXXX purchased...</td>\n",
       "      <td>Vehicle loan or lease</td>\n",
       "    </tr>\n",
       "    <tr>\n",
       "      <th>14</th>\n",
       "      <td>This is one of several times I've discovered t...</td>\n",
       "      <td>Credit reporting, credit repair services, or o...</td>\n",
       "    </tr>\n",
       "    <tr>\n",
       "      <th>15</th>\n",
       "      <td>This is my NUMEROUS request that I have been a...</td>\n",
       "      <td>Credit reporting, credit repair services, or o...</td>\n",
       "    </tr>\n",
       "    <tr>\n",
       "      <th>16</th>\n",
       "      <td>I am writing to request your assistance in cor...</td>\n",
       "      <td>Credit reporting, credit repair services, or o...</td>\n",
       "    </tr>\n",
       "    <tr>\n",
       "      <th>17</th>\n",
       "      <td>This is my 2ND Complaint that I was the victim...</td>\n",
       "      <td>Credit reporting, credit repair services, or o...</td>\n",
       "    </tr>\n",
       "    <tr>\n",
       "      <th>18</th>\n",
       "      <td>My name is XXXX XXXX XXXX this complaint is no...</td>\n",
       "      <td>Credit reporting, credit repair services, or o...</td>\n",
       "    </tr>\n",
       "    <tr>\n",
       "      <th>19</th>\n",
       "      <td>Wells Fargo had on going fees that happened ar...</td>\n",
       "      <td>Checking or savings account</td>\n",
       "    </tr>\n",
       "    <tr>\n",
       "      <th>20</th>\n",
       "      <td>When I reviewed my credit report, I discovered...</td>\n",
       "      <td>Credit reporting, credit repair services, or o...</td>\n",
       "    </tr>\n",
       "    <tr>\n",
       "      <th>21</th>\n",
       "      <td>PLEASE EXPEDITE RE : NATIONSTAR MORTGAGE XXXX ...</td>\n",
       "      <td>Mortgage</td>\n",
       "    </tr>\n",
       "    <tr>\n",
       "      <th>22</th>\n",
       "      <td>This is my NUMEROUS request that I have been a...</td>\n",
       "      <td>Credit reporting, credit repair services, or o...</td>\n",
       "    </tr>\n",
       "    <tr>\n",
       "      <th>23</th>\n",
       "      <td>I saw that Kickoff was inn my credit report, a...</td>\n",
       "      <td>Credit reporting, credit repair services, or o...</td>\n",
       "    </tr>\n",
       "    <tr>\n",
       "      <th>24</th>\n",
       "      <td>I have been paying student loans for the past ...</td>\n",
       "      <td>Student loan</td>\n",
       "    </tr>\n",
       "    <tr>\n",
       "      <th>25</th>\n",
       "      <td>My personal information has been exposed in va...</td>\n",
       "      <td>Credit reporting, credit repair services, or o...</td>\n",
       "    </tr>\n",
       "    <tr>\n",
       "      <th>26</th>\n",
       "      <td>I have items on my credit that should either n...</td>\n",
       "      <td>Credit reporting, credit repair services, or o...</td>\n",
       "    </tr>\n",
       "    <tr>\n",
       "      <th>27</th>\n",
       "      <td>I believe Mohela has mishandled my student loa...</td>\n",
       "      <td>Student loan</td>\n",
       "    </tr>\n",
       "    <tr>\n",
       "      <th>28</th>\n",
       "      <td>I am submitting a complaint in reference to XX...</td>\n",
       "      <td>Credit reporting, credit repair services, or o...</td>\n",
       "    </tr>\n",
       "    <tr>\n",
       "      <th>29</th>\n",
       "      <td>My name is XXXX XXXX this complaint is not mad...</td>\n",
       "      <td>Credit reporting, credit repair services, or o...</td>\n",
       "    </tr>\n",
       "    <tr>\n",
       "      <th>30</th>\n",
       "      <td>When I reviewed my credit report, I discovered...</td>\n",
       "      <td>Credit reporting, credit repair services, or o...</td>\n",
       "    </tr>\n",
       "    <tr>\n",
       "      <th>31</th>\n",
       "      <td>I contacted Experian multiple times about thes...</td>\n",
       "      <td>Credit reporting, credit repair services, or o...</td>\n",
       "    </tr>\n",
       "    <tr>\n",
       "      <th>32</th>\n",
       "      <td>Due to my to being deemed 100 % permanent and ...</td>\n",
       "      <td>Student loan</td>\n",
       "    </tr>\n",
       "    <tr>\n",
       "      <th>33</th>\n",
       "      <td>My name is XXXX XXXX XXXX this complaint is no...</td>\n",
       "      <td>Credit reporting, credit repair services, or o...</td>\n",
       "    </tr>\n",
       "    <tr>\n",
       "      <th>34</th>\n",
       "      <td>My name is XXXX XXXX XXXX, this complaint is n...</td>\n",
       "      <td>Credit reporting, credit repair services, or o...</td>\n",
       "    </tr>\n",
       "    <tr>\n",
       "      <th>35</th>\n",
       "      <td>This is my NUMEROUS request that I have been a...</td>\n",
       "      <td>Credit reporting, credit repair services, or o...</td>\n",
       "    </tr>\n",
       "    <tr>\n",
       "      <th>36</th>\n",
       "      <td>I am Not aware of these accounts my social sec...</td>\n",
       "      <td>Credit reporting, credit repair services, or o...</td>\n",
       "    </tr>\n",
       "    <tr>\n",
       "      <th>37</th>\n",
       "      <td>The 3 Credit reporting agencies XXXX, XXXX, an...</td>\n",
       "      <td>Credit reporting, credit repair services, or o...</td>\n",
       "    </tr>\n",
       "    <tr>\n",
       "      <th>38</th>\n",
       "      <td>I am writing to file a complaint against Westl...</td>\n",
       "      <td>Debt collection</td>\n",
       "    </tr>\n",
       "    <tr>\n",
       "      <th>39</th>\n",
       "      <td>In accordance with the Fair Credit Reporting a...</td>\n",
       "      <td>Credit reporting, credit repair services, or o...</td>\n",
       "    </tr>\n",
       "    <tr>\n",
       "      <th>40</th>\n",
       "      <td>XXXX, XXXX, and Experian have been and are in ...</td>\n",
       "      <td>Credit reporting, credit repair services, or o...</td>\n",
       "    </tr>\n",
       "    <tr>\n",
       "      <th>41</th>\n",
       "      <td>In accordance with the Fair Credit Reporting a...</td>\n",
       "      <td>Credit reporting, credit repair services, or o...</td>\n",
       "    </tr>\n",
       "    <tr>\n",
       "      <th>42</th>\n",
       "      <td>Despite multiple written requests, the unverif...</td>\n",
       "      <td>Credit reporting, credit repair services, or o...</td>\n",
       "    </tr>\n",
       "    <tr>\n",
       "      <th>43</th>\n",
       "      <td>This is my NUMEROUS request that I have been a...</td>\n",
       "      <td>Credit reporting, credit repair services, or o...</td>\n",
       "    </tr>\n",
       "    <tr>\n",
       "      <th>44</th>\n",
       "      <td>In accordance with the Fair Credit Reporting a...</td>\n",
       "      <td>Credit reporting, credit repair services, or o...</td>\n",
       "    </tr>\n",
       "    <tr>\n",
       "      <th>45</th>\n",
       "      <td>I am submitting you this CFPB Complaint to dis...</td>\n",
       "      <td>Credit reporting, credit repair services, or o...</td>\n",
       "    </tr>\n",
       "    <tr>\n",
       "      <th>46</th>\n",
       "      <td>This is a follow-on complaint to the complaint...</td>\n",
       "      <td>Credit reporting, credit repair services, or o...</td>\n",
       "    </tr>\n",
       "  </tbody>\n",
       "</table>\n",
       "</div>"
      ],
      "text/plain": [
       "                         Consumer complaint narrative   \n",
       "0   My name is XXXX XXXX XXXX this complaint is no...  \\\n",
       "1   When I reviewed my credit report, I discovered...   \n",
       "2   I am writing to file a complaint with the Cons...   \n",
       "3   I'm really not sure what happened. I have mail...   \n",
       "4   I recently received a copy of my credit report...   \n",
       "5   Hello, I would like to know what inconstancy '...   \n",
       "6   I'm really not sure what happened. I have mail...   \n",
       "7   While I was with wells Fargo they would overch...   \n",
       "8   Between entering into a real estate transactio...   \n",
       "9   This is a medical debt on my credit report and...   \n",
       "10             My checking account dont add up a lot!   \n",
       "11  Visited a XXXX XXXX mattress store and was app...   \n",
       "12  XX/XX/2023 I contacted Citibank to open a new ...   \n",
       "13  I, XXXX XXXX XXXX XXXX On XX/XX/XXXX purchased...   \n",
       "14  This is one of several times I've discovered t...   \n",
       "15  This is my NUMEROUS request that I have been a...   \n",
       "16  I am writing to request your assistance in cor...   \n",
       "17  This is my 2ND Complaint that I was the victim...   \n",
       "18  My name is XXXX XXXX XXXX this complaint is no...   \n",
       "19  Wells Fargo had on going fees that happened ar...   \n",
       "20  When I reviewed my credit report, I discovered...   \n",
       "21  PLEASE EXPEDITE RE : NATIONSTAR MORTGAGE XXXX ...   \n",
       "22  This is my NUMEROUS request that I have been a...   \n",
       "23  I saw that Kickoff was inn my credit report, a...   \n",
       "24  I have been paying student loans for the past ...   \n",
       "25  My personal information has been exposed in va...   \n",
       "26  I have items on my credit that should either n...   \n",
       "27  I believe Mohela has mishandled my student loa...   \n",
       "28  I am submitting a complaint in reference to XX...   \n",
       "29  My name is XXXX XXXX this complaint is not mad...   \n",
       "30  When I reviewed my credit report, I discovered...   \n",
       "31  I contacted Experian multiple times about thes...   \n",
       "32  Due to my to being deemed 100 % permanent and ...   \n",
       "33  My name is XXXX XXXX XXXX this complaint is no...   \n",
       "34  My name is XXXX XXXX XXXX, this complaint is n...   \n",
       "35  This is my NUMEROUS request that I have been a...   \n",
       "36  I am Not aware of these accounts my social sec...   \n",
       "37  The 3 Credit reporting agencies XXXX, XXXX, an...   \n",
       "38  I am writing to file a complaint against Westl...   \n",
       "39  In accordance with the Fair Credit Reporting a...   \n",
       "40  XXXX, XXXX, and Experian have been and are in ...   \n",
       "41  In accordance with the Fair Credit Reporting a...   \n",
       "42  Despite multiple written requests, the unverif...   \n",
       "43  This is my NUMEROUS request that I have been a...   \n",
       "44  In accordance with the Fair Credit Reporting a...   \n",
       "45  I am submitting you this CFPB Complaint to dis...   \n",
       "46  This is a follow-on complaint to the complaint...   \n",
       "\n",
       "                                              Product  \n",
       "0   Credit reporting, credit repair services, or o...  \n",
       "1   Credit reporting, credit repair services, or o...  \n",
       "2   Credit reporting, credit repair services, or o...  \n",
       "3   Credit reporting, credit repair services, or o...  \n",
       "4   Credit reporting, credit repair services, or o...  \n",
       "5   Credit reporting, credit repair services, or o...  \n",
       "6   Credit reporting, credit repair services, or o...  \n",
       "7                         Checking or savings account  \n",
       "8   Money transfer, virtual currency, or money ser...  \n",
       "9                                     Debt collection  \n",
       "10                        Checking or savings account  \n",
       "11                        Credit card or prepaid card  \n",
       "12                        Checking or savings account  \n",
       "13                              Vehicle loan or lease  \n",
       "14  Credit reporting, credit repair services, or o...  \n",
       "15  Credit reporting, credit repair services, or o...  \n",
       "16  Credit reporting, credit repair services, or o...  \n",
       "17  Credit reporting, credit repair services, or o...  \n",
       "18  Credit reporting, credit repair services, or o...  \n",
       "19                        Checking or savings account  \n",
       "20  Credit reporting, credit repair services, or o...  \n",
       "21                                           Mortgage  \n",
       "22  Credit reporting, credit repair services, or o...  \n",
       "23  Credit reporting, credit repair services, or o...  \n",
       "24                                       Student loan  \n",
       "25  Credit reporting, credit repair services, or o...  \n",
       "26  Credit reporting, credit repair services, or o...  \n",
       "27                                       Student loan  \n",
       "28  Credit reporting, credit repair services, or o...  \n",
       "29  Credit reporting, credit repair services, or o...  \n",
       "30  Credit reporting, credit repair services, or o...  \n",
       "31  Credit reporting, credit repair services, or o...  \n",
       "32                                       Student loan  \n",
       "33  Credit reporting, credit repair services, or o...  \n",
       "34  Credit reporting, credit repair services, or o...  \n",
       "35  Credit reporting, credit repair services, or o...  \n",
       "36  Credit reporting, credit repair services, or o...  \n",
       "37  Credit reporting, credit repair services, or o...  \n",
       "38                                    Debt collection  \n",
       "39  Credit reporting, credit repair services, or o...  \n",
       "40  Credit reporting, credit repair services, or o...  \n",
       "41  Credit reporting, credit repair services, or o...  \n",
       "42  Credit reporting, credit repair services, or o...  \n",
       "43  Credit reporting, credit repair services, or o...  \n",
       "44  Credit reporting, credit repair services, or o...  \n",
       "45  Credit reporting, credit repair services, or o...  \n",
       "46  Credit reporting, credit repair services, or o...  "
      ]
     },
     "execution_count": 8,
     "metadata": {},
     "output_type": "execute_result"
    }
   ],
   "source": [
    "complaints = complaints[['Consumer complaint narrative','Product']]\n",
    "complaints.dropna(inplace=True)\n",
    "complaints.reset_index(drop=True, inplace=True)\n",
    "complaints"
   ]
  },
  {
   "cell_type": "markdown",
   "metadata": {},
   "source": [
    "### Очищення даних"
   ]
  },
  {
   "cell_type": "markdown",
   "metadata": {},
   "source": [
    "Нам потрібно видалити непотрібні символи з текстових даних. symbols_regex містить список символів, які потрібно замінити пробілом. bad_symbols_regex містить регулярний вираз для цифр та інших символів у поєднанні з текстовими даними, тому його потрібно видалити без додавання пробілу."
   ]
  },
  {
   "cell_type": "code",
   "execution_count": 10,
   "metadata": {},
   "outputs": [],
   "source": [
    "symbols_regex = re.compile('[/(){}\\[\\]\\|@,;]')\n",
    "bad_symbols_regex = re.compile('[^0-9a-z #+_]')\n",
    "stop_words = set(stopwords.words('english'))\n",
    "\n",
    "def clean_text(text):\n",
    "    text = re.sub('\\d+', '', text)\n",
    "    text = text.lower()\n",
    "    text = symbols_regex.sub(' ', text)\n",
    "    text = bad_symbols_regex.sub('', text) \n",
    "    text = text.replace('x', '')\n",
    "    text = ' '.join(word for word in text.split() if word not in stop_words)\n",
    "    return text\n",
    "\n",
    "complaints['Consumer complaint narrative'] = complaints['Consumer complaint narrative'].apply(clean_text)"
   ]
  },
  {
   "cell_type": "markdown",
   "metadata": {},
   "source": [
    "### Дослідження label-ів"
   ]
  },
  {
   "cell_type": "markdown",
   "metadata": {},
   "source": [
    "Переглянемо кількість скарг у кожній категорії."
   ]
  },
  {
   "cell_type": "code",
   "execution_count": 11,
   "metadata": {},
   "outputs": [
    {
     "data": {
      "text/plain": [
       "Product\n",
       "Credit reporting, credit repair services, or other personal consumer reports    34\n",
       "Checking or savings account                                                      4\n",
       "Student loan                                                                     3\n",
       "Debt collection                                                                  2\n",
       "Money transfer, virtual currency, or money service                               1\n",
       "Credit card or prepaid card                                                      1\n",
       "Vehicle loan or lease                                                            1\n",
       "Mortgage                                                                         1\n",
       "Name: count, dtype: int64"
      ]
     },
     "execution_count": 11,
     "metadata": {},
     "output_type": "execute_result"
    }
   ],
   "source": [
    "complaints['Product'].value_counts().sort_values(ascending=False)"
   ]
  },
  {
   "cell_type": "markdown",
   "metadata": {},
   "source": [
    "### Векторизація тексту"
   ]
  },
  {
   "cell_type": "markdown",
   "metadata": {},
   "source": [
    "Розділимо речення на окремі слова. Встановимо максимальну кількість слів, які використовує TextVectorizer, використовуючи параметр max_tokens."
   ]
  },
  {
   "cell_type": "code",
   "execution_count": 12,
   "metadata": {},
   "outputs": [],
   "source": [
    "vectorize_layer = tf.keras.layers.TextVectorization(standardize='lower_and_strip_punctuation', max_tokens=500, output_mode='int', output_sequence_length=256)\n",
    "vectorize_layer.adapt(complaints['Consumer complaint narrative'])\n",
    "\n",
    "X_train_padded = vectorize_layer(complaints['Consumer complaint narrative']).numpy()"
   ]
  },
  {
   "cell_type": "markdown",
   "metadata": {},
   "source": [
    "Далі ми перетворюємо текст на послідовності, а потім доповнюємо послідовності, щоб переконатися, що всі послідовності скинуто до 512.\n",
    "\n",
    "Оскільки нейронна мережа може мати лише числа як вхідні дані, ми використовуємо LabelEncoder для перетворення цільових даних у числа."
   ]
  },
  {
   "cell_type": "code",
   "execution_count": 13,
   "metadata": {},
   "outputs": [],
   "source": [
    "le = sklearn.preprocessing.LabelEncoder()\n",
    "complaints['Product'] = le.fit_transform(complaints['Product'])\n",
    "y = complaints['Product']"
   ]
  },
  {
   "cell_type": "markdown",
   "metadata": {},
   "source": [
    "Далі розділимо набір даних на тренувальну та тестувальну вибірку. Набір даних тестування становить 25 відсотків. random_state встановлено на 42, щоб уникнути суперечливих результатів під час кожного навчання. Це запобігає витоку даних, коли частина нашого тестового набору даних використовується для навчання."
   ]
  },
  {
   "cell_type": "code",
   "execution_count": 14,
   "metadata": {},
   "outputs": [
    {
     "name": "stdout",
     "output_type": "stream",
     "text": [
      "(35, 256) (35,)\n",
      "(12, 256) (12,)\n"
     ]
    }
   ],
   "source": [
    "X_train, X_test, y_train, y_test = sklearn.model_selection.train_test_split(X_train_padded, y, test_size=0.25, random_state=42)\n",
    "\n",
    "print(X_train.shape, y_train.shape)\n",
    "print(X_test.shape, y_test.shape)"
   ]
  },
  {
   "cell_type": "markdown",
   "metadata": {},
   "source": [
    "### Створення LSTM мережі"
   ]
  },
  {
   "cell_type": "markdown",
   "metadata": {},
   "source": [
    "Embedding шар представляє токени як щільний вектор. Позиція слова у векторному просторі залежить від слів, які його оточують. Таким чином ми надаємо значення слову залежно від контексту, у якому воно вживається.\n",
    "\n",
    "Ми використовуємо функцію активації softmax, оскільки це проблема багатокласового маркування."
   ]
  },
  {
   "cell_type": "code",
   "execution_count": 15,
   "metadata": {},
   "outputs": [],
   "source": [
    "classifier = Sequential()\n",
    "classifier.add(Embedding(5000, 100, input_length=X_train_padded.shape[1]))\n",
    "classifier.add(SpatialDropout1D(0.2))\n",
    "classifier.add(LSTM(100, dropout=0.2, recurrent_dropout=0.2))\n",
    "classifier.add(Dense(len(le.classes_), activation='softmax'))"
   ]
  },
  {
   "cell_type": "code",
   "execution_count": 16,
   "metadata": {},
   "outputs": [],
   "source": [
    "gpus = tf.config.list_physical_devices('GPU')\n",
    "if gpus:\n",
    "    tf.config.experimental.set_memory_growth(gpus[0], True)"
   ]
  },
  {
   "cell_type": "markdown",
   "metadata": {},
   "source": [
    "### Тренування моделі LSTM"
   ]
  },
  {
   "cell_type": "code",
   "execution_count": 32,
   "metadata": {},
   "outputs": [
    {
     "name": "stdout",
     "output_type": "stream",
     "text": [
      "Epoch 1/10\n",
      "1/1 [==============================] - 5s 5s/step - loss: 0.9570 - accuracy: 0.7714 - val_loss: 1.7040 - val_accuracy: 0.5833\n",
      "Epoch 2/10\n",
      "1/1 [==============================] - 1s 742ms/step - loss: 0.9349 - accuracy: 0.7714 - val_loss: 1.6971 - val_accuracy: 0.5833\n",
      "Epoch 3/10\n",
      "1/1 [==============================] - 1s 805ms/step - loss: 0.9242 - accuracy: 0.7714 - val_loss: 1.6946 - val_accuracy: 0.5833\n",
      "Epoch 4/10\n",
      "1/1 [==============================] - 1s 859ms/step - loss: 0.9068 - accuracy: 0.7714 - val_loss: 1.7214 - val_accuracy: 0.5833\n",
      "Epoch 5/10\n",
      "1/1 [==============================] - 1s 834ms/step - loss: 0.8799 - accuracy: 0.7714 - val_loss: 1.7603 - val_accuracy: 0.5833\n",
      "Epoch 6/10\n",
      "1/1 [==============================] - 1s 834ms/step - loss: 0.8624 - accuracy: 0.7714 - val_loss: 1.2175 - val_accuracy: 0.5833\n",
      "Epoch 7/10\n",
      "1/1 [==============================] - 1s 833ms/step - loss: 1.2344 - accuracy: 0.6857 - val_loss: 1.8122 - val_accuracy: 0.5833\n",
      "Epoch 8/10\n",
      "1/1 [==============================] - 1s 843ms/step - loss: 0.8460 - accuracy: 0.7714 - val_loss: 1.8550 - val_accuracy: 0.5833\n",
      "Epoch 9/10\n",
      "1/1 [==============================] - 1s 828ms/step - loss: 0.8626 - accuracy: 0.7714 - val_loss: 1.8608 - val_accuracy: 0.5833\n",
      "Epoch 10/10\n",
      "1/1 [==============================] - 1s 821ms/step - loss: 0.8897 - accuracy: 0.7714 - val_loss: 1.8534 - val_accuracy: 0.5833\n"
     ]
    }
   ],
   "source": [
    "optimizer = keras.optimizers.Adam(lr=0.001)\n",
    "classifier.compile(loss='sparse_categorical_crossentropy', optimizer=optimizer, metrics=['accuracy'])\n",
    "\n",
    "#early_stopping = keras.callbacks.EarlyStopping(patience=3, restore_best_weights=True)\n",
    "\n",
    "history = classifier.fit(X_train, y_train, epochs=10, batch_size=64, validation_data=(X_test, y_test))"
   ]
  },
  {
   "cell_type": "markdown",
   "metadata": {},
   "source": [
    "### Оцінка моделі LSTM"
   ]
  },
  {
   "cell_type": "code",
   "execution_count": 33,
   "metadata": {},
   "outputs": [
    {
     "name": "stdout",
     "output_type": "stream",
     "text": [
      "1/1 [==============================] - 0s 93ms/step - loss: 1.8534 - accuracy: 0.5833\n"
     ]
    },
    {
     "data": {
      "text/plain": [
       "[1.8533754348754883, 0.5833333134651184]"
      ]
     },
     "execution_count": 33,
     "metadata": {},
     "output_type": "execute_result"
    }
   ],
   "source": [
    "classifier.evaluate(X_test,y_test)"
   ]
  },
  {
   "cell_type": "code",
   "execution_count": 34,
   "metadata": {},
   "outputs": [
    {
     "data": {
      "image/png": "[encoded data removed]",
      "text/plain": [
       "<Figure size 640x480 with 1 Axes>"
      ]
     },
     "metadata": {},
     "output_type": "display_data"
    },
    {
     "data": {
      "image/png": "[encoded data removed]",
      "text/plain": [
       "<Figure size 640x480 with 1 Axes>"
      ]
     },
     "metadata": {},
     "output_type": "display_data"
    }
   ],
   "source": [
    "import matplotlib.pyplot as plt\n",
    "\n",
    "# Plot accuracy\n",
    "plt.plot(history.history['accuracy'])\n",
    "plt.plot(history.history['val_accuracy'])\n",
    "plt.title('Model Accuracy')\n",
    "plt.xlabel('Epoch')\n",
    "plt.ylabel('Accuracy')\n",
    "plt.legend(['Train', 'Validation'], loc='upper left')\n",
    "plt.grid()\n",
    "plt.show()\n",
    "\n",
    "# Plot loss\n",
    "plt.plot(history.history['loss'])\n",
    "plt.plot(history.history['val_loss'])\n",
    "plt.title('Model Loss')\n",
    "plt.xlabel('Epoch')\n",
    "plt.ylabel('Loss')\n",
    "plt.legend(['Train', 'Validation'], loc='upper right')\n",
    "plt.grid()\n",
    "plt.show()\n"
   ]
  },
  {
   "cell_type": "code",
   "execution_count": null,
   "metadata": {},
   "outputs": [],
   "source": []
  }
 ],
 "metadata": {
  "kernelspec": {
   "display_name": "Python 3",
   "language": "python",
   "name": "python3"
  },
  "language_info": {
   "codemirror_mode": {
    "name": "ipython",
    "version": 3
   },
   "file_extension": ".py",
   "mimetype": "text/x-python",
   "name": "python",
   "nbconvert_exporter": "python",
   "pygments_lexer": "ipython3",
   "version": "3.8.3"
  }
 },
 "nbformat": 4,
 "nbformat_minor": 4
}
